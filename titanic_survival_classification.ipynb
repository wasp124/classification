{
 "cells": [
  {
   "cell_type": "markdown",
   "id": "8bcd8345",
   "metadata": {},
   "source": [
    "## Survival Classification"
   ]
  },
  {
   "cell_type": "code",
   "execution_count": 2,
   "id": "52664379",
   "metadata": {},
   "outputs": [],
   "source": [
    "#load data\n",
    "import os, warnings\n",
    "warnings.filterwarnings('ignore')\n",
    "#!pip install kaggle\n",
    "from zipfile import ZipFile\n",
    "\n",
    "import numpy as np\n",
    "import pandas as pd\n",
    "\n",
    "#eda\n",
    "import seaborn as sns\n",
    "import matplotlib.pyplot as plt\n",
    "\n",
    "from sklearn.preprocessing import OneHotEncoder\n",
    "\n",
    "from sklearn import model_selection\n",
    "from sklearn.linear_model import LogisticRegression\n",
    "from sklearn.tree import DecisionTreeClassifier\n",
    "from sklearn.neighbors import KNeighborsClassifier\n",
    "from sklearn.discriminant_analysis import LinearDiscriminantAnalysis\n",
    "from sklearn.naive_bayes import GaussianNB\n",
    "from sklearn.svm import SVC"
   ]
  },
  {
   "cell_type": "markdown",
   "id": "c159495c",
   "metadata": {},
   "source": [
    "### Download Kaggle Titanic Data"
   ]
  },
  {
   "cell_type": "code",
   "execution_count": 2,
   "id": "5bef5c3f",
   "metadata": {},
   "outputs": [
    {
     "name": "stdout",
     "output_type": "stream",
     "text": [
      "mkdir: /Users/sherilyn/.kaggle: File exists\n",
      "titanic.zip: Skipping, found more recently modified local copy (use --force to force download)\n"
     ]
    }
   ],
   "source": [
    "!mkdir ~/.kaggle\n",
    "!echo '{\"username\":\"sherimichael\",\"key\":\"******3806\"}' > ~/.kaggle/kaggle.json\n",
    "!chmod 600 ~/.kaggle/kaggle.json\n",
    "\n",
    "os.chdir('/Users/sherilyn/ds_jungle/classification/titanic_survival')\n",
    "!kaggle competitions download -c titanic\n",
    "#!ls"
   ]
  },
  {
   "cell_type": "code",
   "execution_count": 3,
   "id": "4c1ba72f",
   "metadata": {},
   "outputs": [],
   "source": [
    "# Read train & test data\n",
    "zf = ZipFile('titanic.zip')\n",
    "zf.extractall('data')\n",
    "zf.close()"
   ]
  },
  {
   "cell_type": "code",
   "execution_count": 3,
   "id": "b02da048",
   "metadata": {},
   "outputs": [],
   "source": [
    "train = pd.read_csv(r\"data/train.csv\")\n",
    "test = pd.read_csv(r\"data/test.csv\")"
   ]
  },
  {
   "cell_type": "markdown",
   "id": "170c3d85",
   "metadata": {},
   "source": [
    "### Exploring Data\n",
    "\n",
    "#### train"
   ]
  },
  {
   "cell_type": "code",
   "execution_count": 4,
   "id": "70c1f620",
   "metadata": {},
   "outputs": [
    {
     "name": "stdout",
     "output_type": "stream",
     "text": [
      "train shape: (891, 12)\n"
     ]
    },
    {
     "data": {
      "text/html": [
       "<div>\n",
       "<style scoped>\n",
       "    .dataframe tbody tr th:only-of-type {\n",
       "        vertical-align: middle;\n",
       "    }\n",
       "\n",
       "    .dataframe tbody tr th {\n",
       "        vertical-align: top;\n",
       "    }\n",
       "\n",
       "    .dataframe thead th {\n",
       "        text-align: right;\n",
       "    }\n",
       "</style>\n",
       "<table border=\"1\" class=\"dataframe\">\n",
       "  <thead>\n",
       "    <tr style=\"text-align: right;\">\n",
       "      <th></th>\n",
       "      <th>PassengerId</th>\n",
       "      <th>Survived</th>\n",
       "      <th>Pclass</th>\n",
       "      <th>Name</th>\n",
       "      <th>Sex</th>\n",
       "      <th>Age</th>\n",
       "      <th>SibSp</th>\n",
       "      <th>Parch</th>\n",
       "      <th>Ticket</th>\n",
       "      <th>Fare</th>\n",
       "      <th>Cabin</th>\n",
       "      <th>Embarked</th>\n",
       "    </tr>\n",
       "  </thead>\n",
       "  <tbody>\n",
       "    <tr>\n",
       "      <th>0</th>\n",
       "      <td>1</td>\n",
       "      <td>0</td>\n",
       "      <td>3</td>\n",
       "      <td>Braund, Mr. Owen Harris</td>\n",
       "      <td>male</td>\n",
       "      <td>22.0</td>\n",
       "      <td>1</td>\n",
       "      <td>0</td>\n",
       "      <td>A/5 21171</td>\n",
       "      <td>7.2500</td>\n",
       "      <td>NaN</td>\n",
       "      <td>S</td>\n",
       "    </tr>\n",
       "    <tr>\n",
       "      <th>1</th>\n",
       "      <td>2</td>\n",
       "      <td>1</td>\n",
       "      <td>1</td>\n",
       "      <td>Cumings, Mrs. John Bradley (Florence Briggs Th...</td>\n",
       "      <td>female</td>\n",
       "      <td>38.0</td>\n",
       "      <td>1</td>\n",
       "      <td>0</td>\n",
       "      <td>PC 17599</td>\n",
       "      <td>71.2833</td>\n",
       "      <td>C85</td>\n",
       "      <td>C</td>\n",
       "    </tr>\n",
       "    <tr>\n",
       "      <th>2</th>\n",
       "      <td>3</td>\n",
       "      <td>1</td>\n",
       "      <td>3</td>\n",
       "      <td>Heikkinen, Miss. Laina</td>\n",
       "      <td>female</td>\n",
       "      <td>26.0</td>\n",
       "      <td>0</td>\n",
       "      <td>0</td>\n",
       "      <td>STON/O2. 3101282</td>\n",
       "      <td>7.9250</td>\n",
       "      <td>NaN</td>\n",
       "      <td>S</td>\n",
       "    </tr>\n",
       "    <tr>\n",
       "      <th>3</th>\n",
       "      <td>4</td>\n",
       "      <td>1</td>\n",
       "      <td>1</td>\n",
       "      <td>Futrelle, Mrs. Jacques Heath (Lily May Peel)</td>\n",
       "      <td>female</td>\n",
       "      <td>35.0</td>\n",
       "      <td>1</td>\n",
       "      <td>0</td>\n",
       "      <td>113803</td>\n",
       "      <td>53.1000</td>\n",
       "      <td>C123</td>\n",
       "      <td>S</td>\n",
       "    </tr>\n",
       "    <tr>\n",
       "      <th>4</th>\n",
       "      <td>5</td>\n",
       "      <td>0</td>\n",
       "      <td>3</td>\n",
       "      <td>Allen, Mr. William Henry</td>\n",
       "      <td>male</td>\n",
       "      <td>35.0</td>\n",
       "      <td>0</td>\n",
       "      <td>0</td>\n",
       "      <td>373450</td>\n",
       "      <td>8.0500</td>\n",
       "      <td>NaN</td>\n",
       "      <td>S</td>\n",
       "    </tr>\n",
       "  </tbody>\n",
       "</table>\n",
       "</div>"
      ],
      "text/plain": [
       "   PassengerId  Survived  Pclass  \\\n",
       "0            1         0       3   \n",
       "1            2         1       1   \n",
       "2            3         1       3   \n",
       "3            4         1       1   \n",
       "4            5         0       3   \n",
       "\n",
       "                                                Name     Sex   Age  SibSp  \\\n",
       "0                            Braund, Mr. Owen Harris    male  22.0      1   \n",
       "1  Cumings, Mrs. John Bradley (Florence Briggs Th...  female  38.0      1   \n",
       "2                             Heikkinen, Miss. Laina  female  26.0      0   \n",
       "3       Futrelle, Mrs. Jacques Heath (Lily May Peel)  female  35.0      1   \n",
       "4                           Allen, Mr. William Henry    male  35.0      0   \n",
       "\n",
       "   Parch            Ticket     Fare Cabin Embarked  \n",
       "0      0         A/5 21171   7.2500   NaN        S  \n",
       "1      0          PC 17599  71.2833   C85        C  \n",
       "2      0  STON/O2. 3101282   7.9250   NaN        S  \n",
       "3      0            113803  53.1000  C123        S  \n",
       "4      0            373450   8.0500   NaN        S  "
      ]
     },
     "execution_count": 4,
     "metadata": {},
     "output_type": "execute_result"
    }
   ],
   "source": [
    "print(\"train shape:\", train.shape)\n",
    "train.head()"
   ]
  },
  {
   "cell_type": "code",
   "execution_count": 6,
   "id": "546f6c70-9196-44d8-ac3b-a54fa6f05656",
   "metadata": {},
   "outputs": [
    {
     "name": "stdout",
     "output_type": "stream",
     "text": [
      "train.info():\n",
      "\n",
      "<class 'pandas.core.frame.DataFrame'>\n",
      "RangeIndex: 891 entries, 0 to 890\n",
      "Data columns (total 12 columns):\n",
      " #   Column       Non-Null Count  Dtype  \n",
      "---  ------       --------------  -----  \n",
      " 0   PassengerId  891 non-null    int64  \n",
      " 1   Survived     891 non-null    int64  \n",
      " 2   Pclass       891 non-null    int64  \n",
      " 3   Name         891 non-null    object \n",
      " 4   Sex          891 non-null    object \n",
      " 5   Age          714 non-null    float64\n",
      " 6   SibSp        891 non-null    int64  \n",
      " 7   Parch        891 non-null    int64  \n",
      " 8   Ticket       891 non-null    object \n",
      " 9   Fare         891 non-null    float64\n",
      " 10  Cabin        204 non-null    object \n",
      " 11  Embarked     889 non-null    object \n",
      "dtypes: float64(2), int64(5), object(5)\n",
      "memory usage: 83.7+ KB\n"
     ]
    }
   ],
   "source": [
    "print('train.info():\\n')\n",
    "train.info()"
   ]
  },
  {
   "cell_type": "code",
   "execution_count": 7,
   "id": "34e94788-d998-4c3b-b78e-f306d553e939",
   "metadata": {},
   "outputs": [
    {
     "data": {
      "text/plain": [
       "PassengerId      0\n",
       "Survived         0\n",
       "Pclass           0\n",
       "Name             0\n",
       "Sex              0\n",
       "Age            177\n",
       "SibSp            0\n",
       "Parch            0\n",
       "Ticket           0\n",
       "Fare             0\n",
       "Cabin          687\n",
       "Embarked         2\n",
       "dtype: int64"
      ]
     },
     "execution_count": 7,
     "metadata": {},
     "output_type": "execute_result"
    }
   ],
   "source": [
    "#check for missing data\n",
    "train.isna().sum()"
   ]
  },
  {
   "cell_type": "code",
   "execution_count": 8,
   "id": "3ca6295f-66f4-49e9-befb-392e5b7879a3",
   "metadata": {},
   "outputs": [
    {
     "data": {
      "text/plain": [
       "PassengerId    891\n",
       "Survived         2\n",
       "Pclass           3\n",
       "Name           891\n",
       "Sex              2\n",
       "Age             88\n",
       "SibSp            7\n",
       "Parch            7\n",
       "Ticket         681\n",
       "Fare           248\n",
       "Cabin          147\n",
       "Embarked         3\n",
       "dtype: int64"
      ]
     },
     "execution_count": 8,
     "metadata": {},
     "output_type": "execute_result"
    }
   ],
   "source": [
    "train.nunique()"
   ]
  },
  {
   "cell_type": "markdown",
   "id": "f6b38ef2-76ff-449b-92e6-7215f2805a60",
   "metadata": {},
   "source": [
    "#### Dataset Summary --> train\n",
    "\n",
    "The training data has 891 entries described by 11 features (6 numerical and 5 categorical) and 1 outcome variable (Survived).\n",
    "Three columns have missing data: \n",
    "Age is missing 177 entries (19.87%).\n",
    "Cabin is missing 687 entries (77.1%).\n",
    "Embarked is missing 2 entries (0.22%)."
   ]
  },
  {
   "cell_type": "markdown",
   "id": "06ab2de2-8b0f-429a-a899-bf6990216bca",
   "metadata": {},
   "source": [
    "#### test"
   ]
  },
  {
   "cell_type": "code",
   "execution_count": 14,
   "id": "49924b5a-1a89-4b1c-98ea-d54c44580528",
   "metadata": {},
   "outputs": [
    {
     "name": "stdout",
     "output_type": "stream",
     "text": [
      "test shape: (418, 11)\n"
     ]
    },
    {
     "data": {
      "text/html": [
       "<div>\n",
       "<style scoped>\n",
       "    .dataframe tbody tr th:only-of-type {\n",
       "        vertical-align: middle;\n",
       "    }\n",
       "\n",
       "    .dataframe tbody tr th {\n",
       "        vertical-align: top;\n",
       "    }\n",
       "\n",
       "    .dataframe thead th {\n",
       "        text-align: right;\n",
       "    }\n",
       "</style>\n",
       "<table border=\"1\" class=\"dataframe\">\n",
       "  <thead>\n",
       "    <tr style=\"text-align: right;\">\n",
       "      <th></th>\n",
       "      <th>PassengerId</th>\n",
       "      <th>Pclass</th>\n",
       "      <th>Name</th>\n",
       "      <th>Sex</th>\n",
       "      <th>Age</th>\n",
       "      <th>SibSp</th>\n",
       "      <th>Parch</th>\n",
       "      <th>Ticket</th>\n",
       "      <th>Fare</th>\n",
       "      <th>Cabin</th>\n",
       "      <th>Embarked</th>\n",
       "    </tr>\n",
       "  </thead>\n",
       "  <tbody>\n",
       "    <tr>\n",
       "      <th>0</th>\n",
       "      <td>892</td>\n",
       "      <td>3</td>\n",
       "      <td>Kelly, Mr. James</td>\n",
       "      <td>male</td>\n",
       "      <td>34.5</td>\n",
       "      <td>0</td>\n",
       "      <td>0</td>\n",
       "      <td>330911</td>\n",
       "      <td>7.8292</td>\n",
       "      <td>NaN</td>\n",
       "      <td>Q</td>\n",
       "    </tr>\n",
       "    <tr>\n",
       "      <th>1</th>\n",
       "      <td>893</td>\n",
       "      <td>3</td>\n",
       "      <td>Wilkes, Mrs. James (Ellen Needs)</td>\n",
       "      <td>female</td>\n",
       "      <td>47.0</td>\n",
       "      <td>1</td>\n",
       "      <td>0</td>\n",
       "      <td>363272</td>\n",
       "      <td>7.0000</td>\n",
       "      <td>NaN</td>\n",
       "      <td>S</td>\n",
       "    </tr>\n",
       "    <tr>\n",
       "      <th>2</th>\n",
       "      <td>894</td>\n",
       "      <td>2</td>\n",
       "      <td>Myles, Mr. Thomas Francis</td>\n",
       "      <td>male</td>\n",
       "      <td>62.0</td>\n",
       "      <td>0</td>\n",
       "      <td>0</td>\n",
       "      <td>240276</td>\n",
       "      <td>9.6875</td>\n",
       "      <td>NaN</td>\n",
       "      <td>Q</td>\n",
       "    </tr>\n",
       "    <tr>\n",
       "      <th>3</th>\n",
       "      <td>895</td>\n",
       "      <td>3</td>\n",
       "      <td>Wirz, Mr. Albert</td>\n",
       "      <td>male</td>\n",
       "      <td>27.0</td>\n",
       "      <td>0</td>\n",
       "      <td>0</td>\n",
       "      <td>315154</td>\n",
       "      <td>8.6625</td>\n",
       "      <td>NaN</td>\n",
       "      <td>S</td>\n",
       "    </tr>\n",
       "    <tr>\n",
       "      <th>4</th>\n",
       "      <td>896</td>\n",
       "      <td>3</td>\n",
       "      <td>Hirvonen, Mrs. Alexander (Helga E Lindqvist)</td>\n",
       "      <td>female</td>\n",
       "      <td>22.0</td>\n",
       "      <td>1</td>\n",
       "      <td>1</td>\n",
       "      <td>3101298</td>\n",
       "      <td>12.2875</td>\n",
       "      <td>NaN</td>\n",
       "      <td>S</td>\n",
       "    </tr>\n",
       "  </tbody>\n",
       "</table>\n",
       "</div>"
      ],
      "text/plain": [
       "   PassengerId  Pclass                                          Name     Sex  \\\n",
       "0          892       3                              Kelly, Mr. James    male   \n",
       "1          893       3              Wilkes, Mrs. James (Ellen Needs)  female   \n",
       "2          894       2                     Myles, Mr. Thomas Francis    male   \n",
       "3          895       3                              Wirz, Mr. Albert    male   \n",
       "4          896       3  Hirvonen, Mrs. Alexander (Helga E Lindqvist)  female   \n",
       "\n",
       "    Age  SibSp  Parch   Ticket     Fare Cabin Embarked  \n",
       "0  34.5      0      0   330911   7.8292   NaN        Q  \n",
       "1  47.0      1      0   363272   7.0000   NaN        S  \n",
       "2  62.0      0      0   240276   9.6875   NaN        Q  \n",
       "3  27.0      0      0   315154   8.6625   NaN        S  \n",
       "4  22.0      1      1  3101298  12.2875   NaN        S  "
      ]
     },
     "execution_count": 14,
     "metadata": {},
     "output_type": "execute_result"
    }
   ],
   "source": [
    "print(\"test shape:\", test.shape)\n",
    "test.head()"
   ]
  },
  {
   "cell_type": "code",
   "execution_count": 15,
   "id": "2f3f8225-0252-43cf-9a4d-3f2c4addd253",
   "metadata": {},
   "outputs": [
    {
     "name": "stdout",
     "output_type": "stream",
     "text": [
      "test.info():\n",
      "\n",
      "<class 'pandas.core.frame.DataFrame'>\n",
      "RangeIndex: 418 entries, 0 to 417\n",
      "Data columns (total 11 columns):\n",
      " #   Column       Non-Null Count  Dtype  \n",
      "---  ------       --------------  -----  \n",
      " 0   PassengerId  418 non-null    int64  \n",
      " 1   Pclass       418 non-null    int64  \n",
      " 2   Name         418 non-null    object \n",
      " 3   Sex          418 non-null    object \n",
      " 4   Age          332 non-null    float64\n",
      " 5   SibSp        418 non-null    int64  \n",
      " 6   Parch        418 non-null    int64  \n",
      " 7   Ticket       418 non-null    object \n",
      " 8   Fare         417 non-null    float64\n",
      " 9   Cabin        91 non-null     object \n",
      " 10  Embarked     418 non-null    object \n",
      "dtypes: float64(2), int64(4), object(5)\n",
      "memory usage: 36.0+ KB\n"
     ]
    }
   ],
   "source": [
    "print('test.info():\\n')\n",
    "test.info()"
   ]
  },
  {
   "cell_type": "code",
   "execution_count": 16,
   "id": "dc9cc34b-3310-445a-b740-f2b774539510",
   "metadata": {},
   "outputs": [
    {
     "data": {
      "text/plain": [
       "PassengerId      0\n",
       "Pclass           0\n",
       "Name             0\n",
       "Sex              0\n",
       "Age             86\n",
       "SibSp            0\n",
       "Parch            0\n",
       "Ticket           0\n",
       "Fare             1\n",
       "Cabin          327\n",
       "Embarked         0\n",
       "dtype: int64"
      ]
     },
     "execution_count": 16,
     "metadata": {},
     "output_type": "execute_result"
    }
   ],
   "source": [
    "#check for missing data\n",
    "test.isna().sum()"
   ]
  },
  {
   "cell_type": "markdown",
   "id": "e4ceb7b5-82d5-4301-bea8-2ca91d368980",
   "metadata": {},
   "source": [
    "#### Visualization\n",
    "\n",
    "Distributions of train, test"
   ]
  },
  {
   "cell_type": "code",
   "execution_count": 12,
   "id": "4f607630-0368-4c2c-890a-3fa0df0ec8e3",
   "metadata": {},
   "outputs": [
    {
     "data": {
      "image/png": "[encoded data removed]",
      "text/plain": [
       "<Figure size 640x480 with 1 Axes>"
      ]
     },
     "metadata": {},
     "output_type": "display_data"
    }
   ],
   "source": [
    "ax = train.Survived.value_counts().plot(kind='barh')"
   ]
  },
  {
   "cell_type": "code",
   "execution_count": 14,
   "id": "c3f90331-6d98-4c90-862d-5d129b0728a9",
   "metadata": {},
   "outputs": [
    {
     "data": {
      "text/plain": [
       "<Axes: xlabel='Sex'>"
      ]
     },
     "execution_count": 14,
     "metadata": {},
     "output_type": "execute_result"
    },
    {
     "data": {
      "image/png": "[encoded data removed]",
      "text/plain": [
       "<Figure size 640x480 with 1 Axes>"
      ]
     },
     "metadata": {},
     "output_type": "display_data"
    }
   ],
   "source": [
    "#Distribution by Gender\n",
    "(pd.concat({'train': train, 'test': test})['Sex']\n",
    "   .groupby(level=0).value_counts()\n",
    "   .unstack(0)\n",
    "   .plot.bar()\n",
    ")"
   ]
  },
  {
   "cell_type": "code",
   "execution_count": 15,
   "id": "cf95907d-cb8e-4d06-b4f0-ea36109f8181",
   "metadata": {},
   "outputs": [
    {
     "data": {
      "text/plain": [
       "<Axes: xlabel='Pclass'>"
      ]
     },
     "execution_count": 15,
     "metadata": {},
     "output_type": "execute_result"
    },
    {
     "data": {
      "image/png": "[encoded data removed]",
      "text/plain": [
       "<Figure size 640x480 with 1 Axes>"
      ]
     },
     "metadata": {},
     "output_type": "display_data"
    }
   ],
   "source": [
    "#Distribution by Pclass\n",
    "(pd.concat({'train': train, 'test': test})['Pclass']\n",
    "   .groupby(level=0).value_counts()\n",
    "   .unstack(0)\n",
    "   .plot.bar()\n",
    ")"
   ]
  },
  {
   "cell_type": "code",
   "execution_count": 16,
   "id": "58c8451a-9822-4d69-916d-3ece1ca3c3d3",
   "metadata": {},
   "outputs": [
    {
     "data": {
      "text/plain": [
       "<Axes: xlabel='Embarked'>"
      ]
     },
     "execution_count": 16,
     "metadata": {},
     "output_type": "execute_result"
    },
    {
     "data": {
      "image/png": "[encoded data removed]",
      "text/plain": [
       "<Figure size 640x480 with 1 Axes>"
      ]
     },
     "metadata": {},
     "output_type": "display_data"
    }
   ],
   "source": [
    "#Distribution by Embarked\n",
    "(pd.concat({'train': train, 'test': test})['Embarked']\n",
    "   .groupby(level=0).value_counts()\n",
    "   .unstack(0)\n",
    "   .plot.bar()\n",
    ")"
   ]
  },
  {
   "cell_type": "code",
   "execution_count": 28,
   "id": "53a65baf-b12c-46e9-b6bd-5e99f6b8daf2",
   "metadata": {},
   "outputs": [
    {
     "data": {
      "text/plain": [
       "Text(0.5, 1.05, 'Blue: train \\n Orange: test')"
      ]
     },
     "execution_count": 28,
     "metadata": {},
     "output_type": "execute_result"
    },
    {
     "data": {
      "image/png": "[encoded data removed]",
      "text/plain": [
       "<Figure size 640x480 with 1 Axes>"
      ]
     },
     "metadata": {},
     "output_type": "display_data"
    }
   ],
   "source": [
    "#Distribution by Age\n",
    "%matplotlib inline\n",
    "\n",
    "train['Age'].hist(bins=40)\n",
    "test['Age'].hist(bins=40)\n",
    "plt.title('Distribution by Age', ha='center')\n",
    "plt.suptitle('Blue: train \\n Orange: test', x=0.5, y=1.05, ha='center', fontsize='xx-large')"
   ]
  },
  {
   "cell_type": "markdown",
   "id": "0990f195-85de-44a4-8c60-4821f5abd5a4",
   "metadata": {},
   "source": [
    "#### Dataset Summary --> test\n",
    "\n",
    "The training data has 418 entries described by 11 features (6 numerical and 5 categorical).\n",
    "Three columns have missing data: \n",
    "Age is missing 86 entries (20.5%).\n",
    "Cabin is missing 327 entries (78.2%).\n",
    "\n",
    "Gender, Pclass, Embarked and Age, are proportionately disgributed across the datasets, train and test."
   ]
  },
  {
   "cell_type": "markdown",
   "id": "30153b73-6ff1-4c33-a733-ca8f2778bd1d",
   "metadata": {},
   "source": [
    "### Clean Data: train, test"
   ]
  },
  {
   "cell_type": "code",
   "execution_count": 5,
   "id": "af09c2a0-ce72-4bbc-b224-21e7a5e14c2b",
   "metadata": {},
   "outputs": [
    {
     "name": "stdout",
     "output_type": "stream",
     "text": [
      "train:\n",
      "PassengerId    0\n",
      "Survived       0\n",
      "Pclass         0\n",
      "Name           0\n",
      "Sex            0\n",
      "Age            0\n",
      "SibSp          0\n",
      "Parch          0\n",
      "Ticket         0\n",
      "Fare           0\n",
      "Embarked       0\n",
      "dtype: int64\n"
     ]
    }
   ],
   "source": [
    "print('train:')\n",
    "#drop 'Cabin' & impute Age, Embarked\n",
    "train.drop('Cabin',  axis=1, inplace=True)\n",
    "train['Age'].fillna(train['Age'].mean(), inplace = True)\n",
    "train['Embarked'].fillna(train['Embarked'].mode()[0], inplace = True)\n",
    "print(train.isna().sum())"
   ]
  },
  {
   "cell_type": "markdown",
   "id": "518a6104-337b-47e2-9ad7-af71c5f4c299",
   "metadata": {},
   "source": [
    "#### Cleaning Data Overview: train\n",
    "\n",
    "Because Cabin is missing >75% of its values, it was dropped from train.\n",
    "\n",
    "Missing values in Age were imputed with the average age of all passengers. \n",
    "\n",
    "Missing values for 'Embarked' were imputed with the mode.\n",
    "\n",
    "Classifiers will be trained on the data set, train with 891 entries, 10 features (6 numerical & 4 categorical) and 1 outcome variable (Survived)."
   ]
  },
  {
   "cell_type": "code",
   "execution_count": 35,
   "id": "9254adcd-15ef-4370-a27c-8b18180c80e9",
   "metadata": {},
   "outputs": [
    {
     "name": "stdout",
     "output_type": "stream",
     "text": [
      "test:\n",
      "PassengerId    0\n",
      "Pclass         0\n",
      "Name           0\n",
      "Sex            0\n",
      "Age            0\n",
      "SibSp          0\n",
      "Parch          0\n",
      "Ticket         0\n",
      "Fare           1\n",
      "Embarked       0\n",
      "dtype: int64\n"
     ]
    }
   ],
   "source": [
    "print('test:')\n",
    "#drop 'Cabin' & impute Age, Embarked\n",
    "test.drop('Cabin',  axis=1, inplace=True)\n",
    "test['Age'].fillna(test['Age'].mean(), inplace = True)\n",
    "print(test.isna().sum())"
   ]
  },
  {
   "cell_type": "markdown",
   "id": "171b0a66-7133-4694-b491-0f5f32961869",
   "metadata": {},
   "source": [
    "#### Cleaning Data Overview: test\n",
    "\n",
    "Because the feature, Cabin, was dropped in the training dataset, it was also dropped in test.\n",
    "\n",
    "Missing values for the feature, Age, were imputed using the mode (as was done in train).\n",
    "\n",
    "The testing dataset has 418 entries with 10 features (6 numerical & 4 categorical)."
   ]
  },
  {
   "cell_type": "markdown",
   "id": "57c02a0b-6a8f-420b-966b-9ad2c3b9a880",
   "metadata": {},
   "source": [
    "### Feature Engineering\n",
    "\n",
    "Create features: FarePerPerson, Title, AgeGroup\n",
    "\n",
    "Drop features: Name, Ticket, Fare, Age\n",
    "\n",
    "One Hot Encode: Sex, Embarked, Title, AgeGroup"
   ]
  },
  {
   "cell_type": "code",
   "execution_count": 6,
   "id": "824288cf-efb1-4de5-abac-e858c37fef0a",
   "metadata": {},
   "outputs": [],
   "source": [
    "#Create features: FarePerPerson, Title, AgeGroup\n",
    "data = [train, test]\n",
    "for dataset in data:\n",
    "  # Create a fare per person feature\n",
    "  dataset['FarePerPerson'] = (dataset['Fare'] / (dataset['SibSp'] + dataset['Parch'] + 1)).astype(float)\n",
    "  # Extract Title from the Name column\n",
    "  dataset['Title'] = dataset['Name'].str.extract(' ([A-Za-z]+)\\.', expand=False)\n",
    "  # Consolidate other titles into a single 'Other' category\n",
    "  other_titles = ['Lady', 'Countess', 'Capt', 'Col', 'Don', 'Dr', 'Major', 'Rev', 'Sir', 'Jonkheer', 'Dona']\n",
    "  dataset['Title'] = dataset['Title'].replace(other_titles, 'Other')\n",
    "  # Extract An AgeGroup from the Age column\n",
    "  dataset['AgeGroup'] = pd.cut(dataset['Age'], bins=[0, 12, 18, 60, np.inf], labels=['Child', 'Teenager', 'Adult', 'Senior'])\n"
   ]
  },
  {
   "cell_type": "code",
   "execution_count": 7,
   "id": "8836a20c-ef07-4c9d-bfe2-107d81864d9c",
   "metadata": {},
   "outputs": [],
   "source": [
    "#Drop features: Name, Ticket, Fare, Age, SibSp, Parch\n",
    "columns_to_drop = ['Name', 'Ticket', 'Fare', 'Age']\n",
    "\n",
    "for dataset in data:\n",
    "    dataset.drop(columns=columns_to_drop, inplace=True)"
   ]
  },
  {
   "cell_type": "code",
   "execution_count": 25,
   "id": "4fcf656d-758d-4c79-a188-e7afe4d09b74",
   "metadata": {},
   "outputs": [
    {
     "name": "stdout",
     "output_type": "stream",
     "text": [
      "     PassengerId  Survived  Pclass     Sex  SibSp  Parch Embarked  \\\n",
      "291          292         1       1  female      1      0        C   \n",
      "201          202         0       3    male      8      2        S   \n",
      "488          489         0       3    male      0      0        S   \n",
      "878          879         0       3    male      0      0        S   \n",
      "233          234         1       3  female      4      2        S   \n",
      "\n",
      "     FarePerPerson Title AgeGroup  \n",
      "291      45.539600   Mrs    Adult  \n",
      "201       6.322727    Mr    Adult  \n",
      "488       8.050000    Mr    Adult  \n",
      "878       7.895800    Mr    Adult  \n",
      "233       4.483929  Miss    Child  \n",
      "     PassengerId  Pclass     Sex  SibSp  Parch Embarked  FarePerPerson  \\\n",
      "7            899       2    male      1      1        S       9.666667   \n",
      "164         1056       2    male      0      0        S      13.000000   \n",
      "281         1173       3    male      1      1        S       4.591667   \n",
      "310         1202       3    male      0      0        S       8.662500   \n",
      "239         1131       1  female      1      0        C      53.212500   \n",
      "\n",
      "      Title  AgeGroup  \n",
      "7        Mr     Adult  \n",
      "164   Other     Adult  \n",
      "281  Master     Child  \n",
      "310      Mr  Teenager  \n",
      "239     Mrs     Adult  \n"
     ]
    }
   ],
   "source": [
    "print(train.sample(5))\n",
    "print(test.sample(5))"
   ]
  },
  {
   "cell_type": "code",
   "execution_count": 10,
   "id": "073175b7-41ee-49a0-81d4-afeab2c9eb1b",
   "metadata": {},
   "outputs": [
    {
     "data": {
      "text/plain": [
       "array(['Mr', 'Mrs', 'Miss', 'Master', 'Other', 'Mme', 'Ms', 'Mlle'],\n",
       "      dtype=object)"
      ]
     },
     "execution_count": 10,
     "metadata": {},
     "output_type": "execute_result"
    }
   ],
   "source": [
    "train.Title.unique()"
   ]
  },
  {
   "cell_type": "markdown",
   "id": "8e23a6dd-4e95-429e-9c3a-1482da145688",
   "metadata": {},
   "source": [
    "#### Visualization: Distribution by New Features (AgeGroup, Title, FarePerPerson)"
   ]
  },
  {
   "cell_type": "code",
   "execution_count": 33,
   "id": "295da704-7055-4b50-bba9-978b73396f56",
   "metadata": {},
   "outputs": [
    {
     "data": {
      "text/plain": [
       "<Axes: xlabel='AgeGroup'>"
      ]
     },
     "execution_count": 33,
     "metadata": {},
     "output_type": "execute_result"
    },
    {
     "data": {
      "image/png": "[encoded data removed]",
      "text/plain": [
       "<Figure size 640x480 with 1 Axes>"
      ]
     },
     "metadata": {},
     "output_type": "display_data"
    }
   ],
   "source": [
    "#Distribution by AgeGroup\n",
    "(pd.concat({'train': train, 'test': test})['AgeGroup']\n",
    "   .groupby(level=0).value_counts()\n",
    "   .unstack(0)\n",
    "   .plot.bar()\n",
    ")"
   ]
  },
  {
   "cell_type": "code",
   "execution_count": 34,
   "id": "e3dc6321-19b3-467a-8437-4ec748e4780e",
   "metadata": {},
   "outputs": [
    {
     "data": {
      "text/plain": [
       "<Axes: xlabel='Title'>"
      ]
     },
     "execution_count": 34,
     "metadata": {},
     "output_type": "execute_result"
    },
    {
     "data": {
      "image/png": "[encoded data removed]",
      "text/plain": [
       "<Figure size 640x480 with 1 Axes>"
      ]
     },
     "metadata": {},
     "output_type": "display_data"
    }
   ],
   "source": [
    "#Distribution by Title\n",
    "(pd.concat({'train': train, 'test': test})['Title']\n",
    "   .groupby(level=0).value_counts()\n",
    "   .unstack(0)\n",
    "   .plot.bar()\n",
    ")"
   ]
  },
  {
   "cell_type": "code",
   "execution_count": 39,
   "id": "5488078c-1218-456a-96ed-b938a2790320",
   "metadata": {},
   "outputs": [
    {
     "data": {
      "text/plain": [
       "Text(0.5, 1.05, 'Blue: train \\n Orange: test')"
      ]
     },
     "execution_count": 39,
     "metadata": {},
     "output_type": "execute_result"
    },
    {
     "data": {
      "image/png": "[encoded data removed]",
      "text/plain": [
       "<Figure size 640x480 with 1 Axes>"
      ]
     },
     "metadata": {},
     "output_type": "display_data"
    }
   ],
   "source": [
    "#Distribution of FarePerPerson\n",
    "%matplotlib inline\n",
    "train['FarePerPerson'].hist(bins=25)\n",
    "test['FarePerPerson'].hist(bins=25)\n",
    "plt.title('Distribution by FarePerPerson', ha='center')\n",
    "plt.suptitle('Blue: train \\n Orange: test', x=0.5, y=1.05, ha='center', fontsize='xx-large')"
   ]
  },
  {
   "cell_type": "markdown",
   "id": "783404d7-3dbe-4813-9104-a25c0f1757c3",
   "metadata": {},
   "source": [
    "Engineered features are proportionately distributed across the datasets, train and test."
   ]
  },
  {
   "cell_type": "markdown",
   "id": "ee25b499-b8d7-4af8-9136-9c2a69ac5034",
   "metadata": {},
   "source": [
    "#### One Hot Encode Sex, AgeGroup, Title"
   ]
  },
  {
   "cell_type": "code",
   "execution_count": 8,
   "id": "ad1409de-d9c2-4c25-96c2-0288ef0d75bb",
   "metadata": {},
   "outputs": [
    {
     "name": "stdout",
     "output_type": "stream",
     "text": [
      "<class 'pandas.core.frame.DataFrame'>\n",
      "RangeIndex: 891 entries, 0 to 890\n",
      "Data columns (total 10 columns):\n",
      " #   Column         Non-Null Count  Dtype   \n",
      "---  ------         --------------  -----   \n",
      " 0   PassengerId    891 non-null    int64   \n",
      " 1   Survived       891 non-null    int64   \n",
      " 2   Pclass         891 non-null    int64   \n",
      " 3   Sex            891 non-null    object  \n",
      " 4   SibSp          891 non-null    int64   \n",
      " 5   Parch          891 non-null    int64   \n",
      " 6   Embarked       891 non-null    object  \n",
      " 7   FarePerPerson  891 non-null    float64 \n",
      " 8   Title          891 non-null    object  \n",
      " 9   AgeGroup       891 non-null    category\n",
      "dtypes: category(1), float64(1), int64(5), object(3)\n",
      "memory usage: 63.8+ KB\n"
     ]
    }
   ],
   "source": [
    "train.info()"
   ]
  },
  {
   "cell_type": "code",
   "execution_count": 11,
   "id": "007d1d3f-d9a7-4e32-89fe-2919736ab769",
   "metadata": {},
   "outputs": [
    {
     "name": "stdout",
     "output_type": "stream",
     "text": [
      "['Sex', 'Embarked', 'Title', 'AgeGroup']\n",
      "Encoded data : \n",
      "     PassengerId  Survived  Pclass  SibSp  Parch  FarePerPerson  Sex_female  \\\n",
      "0              1         0       3      1      0        3.62500         0.0   \n",
      "1              2         1       1      1      0       35.64165         1.0   \n",
      "2              3         1       3      0      0        7.92500         1.0   \n",
      "3              4         1       1      1      0       26.55000         1.0   \n",
      "4              5         0       3      0      0        8.05000         0.0   \n",
      "..           ...       ...     ...    ...    ...            ...         ...   \n",
      "886          887         0       2      0      0       13.00000         0.0   \n",
      "887          888         1       1      0      0       30.00000         1.0   \n",
      "888          889         0       3      1      2        5.86250         1.0   \n",
      "889          890         1       1      0      0       30.00000         0.0   \n",
      "890          891         0       3      0      0        7.75000         0.0   \n",
      "\n",
      "     Sex_male  Embarked_C  Embarked_Q  ...  Title_Mlle  Title_Mme  Title_Mr  \\\n",
      "0         1.0         0.0         0.0  ...         0.0        0.0       1.0   \n",
      "1         0.0         1.0         0.0  ...         0.0        0.0       0.0   \n",
      "2         0.0         0.0         0.0  ...         0.0        0.0       0.0   \n",
      "3         0.0         0.0         0.0  ...         0.0        0.0       0.0   \n",
      "4         1.0         0.0         0.0  ...         0.0        0.0       1.0   \n",
      "..        ...         ...         ...  ...         ...        ...       ...   \n",
      "886       1.0         0.0         0.0  ...         0.0        0.0       0.0   \n",
      "887       0.0         0.0         0.0  ...         0.0        0.0       0.0   \n",
      "888       0.0         0.0         0.0  ...         0.0        0.0       0.0   \n",
      "889       1.0         1.0         0.0  ...         0.0        0.0       1.0   \n",
      "890       1.0         0.0         1.0  ...         0.0        0.0       1.0   \n",
      "\n",
      "     Title_Mrs  Title_Ms  Title_Other  AgeGroup_Adult  AgeGroup_Child  \\\n",
      "0          0.0       0.0          0.0             1.0             0.0   \n",
      "1          1.0       0.0          0.0             1.0             0.0   \n",
      "2          0.0       0.0          0.0             1.0             0.0   \n",
      "3          1.0       0.0          0.0             1.0             0.0   \n",
      "4          0.0       0.0          0.0             1.0             0.0   \n",
      "..         ...       ...          ...             ...             ...   \n",
      "886        0.0       0.0          1.0             1.0             0.0   \n",
      "887        0.0       0.0          0.0             1.0             0.0   \n",
      "888        0.0       0.0          0.0             1.0             0.0   \n",
      "889        0.0       0.0          0.0             1.0             0.0   \n",
      "890        0.0       0.0          0.0             1.0             0.0   \n",
      "\n",
      "     AgeGroup_Senior  AgeGroup_Teenager  \n",
      "0                0.0                0.0  \n",
      "1                0.0                0.0  \n",
      "2                0.0                0.0  \n",
      "3                0.0                0.0  \n",
      "4                0.0                0.0  \n",
      "..               ...                ...  \n",
      "886              0.0                0.0  \n",
      "887              0.0                0.0  \n",
      "888              0.0                0.0  \n",
      "889              0.0                0.0  \n",
      "890              0.0                0.0  \n",
      "\n",
      "[891 rows x 23 columns]\n",
      "['Sex', 'Cabin', 'Embarked', 'Title', 'AgeGroup']\n",
      "Encoded data : \n",
      "     PassengerId  Pclass  SibSp  Parch  FarePerPerson  Sex_female  Sex_male  \\\n",
      "0            892       3      0      0       7.829200         0.0       1.0   \n",
      "1            893       3      1      0       3.500000         1.0       0.0   \n",
      "2            894       2      0      0       9.687500         0.0       1.0   \n",
      "3            895       3      0      0       8.662500         0.0       1.0   \n",
      "4            896       3      1      1       4.095833         1.0       0.0   \n",
      "..           ...     ...    ...    ...            ...         ...       ...   \n",
      "413         1305       3      0      0       8.050000         0.0       1.0   \n",
      "414         1306       1      0      0     108.900000         1.0       0.0   \n",
      "415         1307       3      0      0       7.250000         0.0       1.0   \n",
      "416         1308       3      0      0       8.050000         0.0       1.0   \n",
      "417         1309       3      1      1       7.452767         0.0       1.0   \n",
      "\n",
      "     Cabin_A11  Cabin_A18  Cabin_A21  ...  Title_Miss  Title_Mr  Title_Mrs  \\\n",
      "0          0.0        0.0        0.0  ...         0.0       1.0        0.0   \n",
      "1          0.0        0.0        0.0  ...         0.0       0.0        1.0   \n",
      "2          0.0        0.0        0.0  ...         0.0       1.0        0.0   \n",
      "3          0.0        0.0        0.0  ...         0.0       1.0        0.0   \n",
      "4          0.0        0.0        0.0  ...         0.0       0.0        1.0   \n",
      "..         ...        ...        ...  ...         ...       ...        ...   \n",
      "413        0.0        0.0        0.0  ...         0.0       1.0        0.0   \n",
      "414        0.0        0.0        0.0  ...         0.0       0.0        0.0   \n",
      "415        0.0        0.0        0.0  ...         0.0       1.0        0.0   \n",
      "416        0.0        0.0        0.0  ...         0.0       1.0        0.0   \n",
      "417        0.0        0.0        0.0  ...         0.0       0.0        0.0   \n",
      "\n",
      "     Title_Ms  Title_Other  AgeGroup_Adult  AgeGroup_Child  AgeGroup_Senior  \\\n",
      "0         0.0          0.0             1.0             0.0              0.0   \n",
      "1         0.0          0.0             1.0             0.0              0.0   \n",
      "2         0.0          0.0             0.0             0.0              1.0   \n",
      "3         0.0          0.0             1.0             0.0              0.0   \n",
      "4         0.0          0.0             1.0             0.0              0.0   \n",
      "..        ...          ...             ...             ...              ...   \n",
      "413       0.0          0.0             0.0             0.0              0.0   \n",
      "414       0.0          1.0             1.0             0.0              0.0   \n",
      "415       0.0          0.0             1.0             0.0              0.0   \n",
      "416       0.0          0.0             0.0             0.0              0.0   \n",
      "417       0.0          0.0             0.0             0.0              0.0   \n",
      "\n",
      "     AgeGroup_Teenager  AgeGroup_nan  \n",
      "0                  0.0           0.0  \n",
      "1                  0.0           0.0  \n",
      "2                  0.0           0.0  \n",
      "3                  0.0           0.0  \n",
      "4                  0.0           0.0  \n",
      "..                 ...           ...  \n",
      "413                0.0           1.0  \n",
      "414                0.0           0.0  \n",
      "415                0.0           0.0  \n",
      "416                0.0           1.0  \n",
      "417                0.0           1.0  \n",
      "\n",
      "[418 rows x 98 columns]\n"
     ]
    }
   ],
   "source": [
    "#code source: https://www.geeksforgeeks.org/ml-one-hot-encoding/\n",
    "\n",
    "data = [train, test]\n",
    "encoded_data = []\n",
    "\n",
    "for dataset in data:\n",
    "    categorical_columns = dataset.select_dtypes(include=['object', 'category']).columns.tolist()\n",
    "    print(categorical_columns)\n",
    "    #Initialize OneHotEncoder\n",
    "    encoder = OneHotEncoder(sparse_output=False)\n",
    "\n",
    "    # Apply one-hot encoding to the categorical columns\n",
    "    one_hot_encoded = encoder.fit_transform(dataset[categorical_columns])\n",
    "\n",
    "    #Create a DataFrame with the one-hot encoded columns\n",
    "    #We use get_feature_names_out() to get the column names for the encoded data\n",
    "    one_hot_df = pd.DataFrame(one_hot_encoded, columns=encoder.get_feature_names_out(categorical_columns))\n",
    "\n",
    "    # Concatenate the one-hot encoded dataframe with the original dataframe\n",
    "    df_encoded = pd.concat([dataset, one_hot_df], axis=1)\n",
    "\n",
    "    # Drop the original categorical columns\n",
    "    df_encoded = df_encoded.drop(categorical_columns, axis=1)\n",
    "\n",
    "    # Display the resulting dataframe\n",
    "    print(f\"Encoded data : \\n{df_encoded}\")\n",
    "\n",
    "    encoded_data.append(df_encoded)"
   ]
  },
  {
   "cell_type": "code",
   "execution_count": 16,
   "id": "db14b21a-74f0-4a00-804d-f7f435a84279",
   "metadata": {},
   "outputs": [
    {
     "name": "stdout",
     "output_type": "stream",
     "text": [
      "<class 'pandas.core.frame.DataFrame'>\n",
      "RangeIndex: 891 entries, 0 to 890\n",
      "Data columns (total 23 columns):\n",
      " #   Column             Non-Null Count  Dtype  \n",
      "---  ------             --------------  -----  \n",
      " 0   PassengerId        891 non-null    int64  \n",
      " 1   Survived           891 non-null    int64  \n",
      " 2   Pclass             891 non-null    int64  \n",
      " 3   SibSp              891 non-null    int64  \n",
      " 4   Parch              891 non-null    int64  \n",
      " 5   FarePerPerson      891 non-null    float64\n",
      " 6   Sex_female         891 non-null    float64\n",
      " 7   Sex_male           891 non-null    float64\n",
      " 8   Embarked_C         891 non-null    float64\n",
      " 9   Embarked_Q         891 non-null    float64\n",
      " 10  Embarked_S         891 non-null    float64\n",
      " 11  Title_Master       891 non-null    float64\n",
      " 12  Title_Miss         891 non-null    float64\n",
      " 13  Title_Mlle         891 non-null    float64\n",
      " 14  Title_Mme          891 non-null    float64\n",
      " 15  Title_Mr           891 non-null    float64\n",
      " 16  Title_Mrs          891 non-null    float64\n",
      " 17  Title_Ms           891 non-null    float64\n",
      " 18  Title_Other        891 non-null    float64\n",
      " 19  AgeGroup_Adult     891 non-null    float64\n",
      " 20  AgeGroup_Child     891 non-null    float64\n",
      " 21  AgeGroup_Senior    891 non-null    float64\n",
      " 22  AgeGroup_Teenager  891 non-null    float64\n",
      "dtypes: float64(18), int64(5)\n",
      "memory usage: 160.2 KB\n",
      "None\n",
      "<class 'pandas.core.frame.DataFrame'>\n",
      "RangeIndex: 418 entries, 0 to 417\n",
      "Data columns (total 98 columns):\n",
      " #   Column                 Non-Null Count  Dtype  \n",
      "---  ------                 --------------  -----  \n",
      " 0   PassengerId            418 non-null    int64  \n",
      " 1   Pclass                 418 non-null    int64  \n",
      " 2   SibSp                  418 non-null    int64  \n",
      " 3   Parch                  418 non-null    int64  \n",
      " 4   FarePerPerson          417 non-null    float64\n",
      " 5   Sex_female             418 non-null    float64\n",
      " 6   Sex_male               418 non-null    float64\n",
      " 7   Cabin_A11              418 non-null    float64\n",
      " 8   Cabin_A18              418 non-null    float64\n",
      " 9   Cabin_A21              418 non-null    float64\n",
      " 10  Cabin_A29              418 non-null    float64\n",
      " 11  Cabin_A34              418 non-null    float64\n",
      " 12  Cabin_A9               418 non-null    float64\n",
      " 13  Cabin_B10              418 non-null    float64\n",
      " 14  Cabin_B11              418 non-null    float64\n",
      " 15  Cabin_B24              418 non-null    float64\n",
      " 16  Cabin_B26              418 non-null    float64\n",
      " 17  Cabin_B36              418 non-null    float64\n",
      " 18  Cabin_B41              418 non-null    float64\n",
      " 19  Cabin_B45              418 non-null    float64\n",
      " 20  Cabin_B51 B53 B55      418 non-null    float64\n",
      " 21  Cabin_B52 B54 B56      418 non-null    float64\n",
      " 22  Cabin_B57 B59 B63 B66  418 non-null    float64\n",
      " 23  Cabin_B58 B60          418 non-null    float64\n",
      " 24  Cabin_B61              418 non-null    float64\n",
      " 25  Cabin_B69              418 non-null    float64\n",
      " 26  Cabin_B71              418 non-null    float64\n",
      " 27  Cabin_B78              418 non-null    float64\n",
      " 28  Cabin_C101             418 non-null    float64\n",
      " 29  Cabin_C105             418 non-null    float64\n",
      " 30  Cabin_C106             418 non-null    float64\n",
      " 31  Cabin_C116             418 non-null    float64\n",
      " 32  Cabin_C130             418 non-null    float64\n",
      " 33  Cabin_C132             418 non-null    float64\n",
      " 34  Cabin_C22 C26          418 non-null    float64\n",
      " 35  Cabin_C23 C25 C27      418 non-null    float64\n",
      " 36  Cabin_C28              418 non-null    float64\n",
      " 37  Cabin_C31              418 non-null    float64\n",
      " 38  Cabin_C32              418 non-null    float64\n",
      " 39  Cabin_C39              418 non-null    float64\n",
      " 40  Cabin_C46              418 non-null    float64\n",
      " 41  Cabin_C51              418 non-null    float64\n",
      " 42  Cabin_C53              418 non-null    float64\n",
      " 43  Cabin_C54              418 non-null    float64\n",
      " 44  Cabin_C55 C57          418 non-null    float64\n",
      " 45  Cabin_C6               418 non-null    float64\n",
      " 46  Cabin_C62 C64          418 non-null    float64\n",
      " 47  Cabin_C7               418 non-null    float64\n",
      " 48  Cabin_C78              418 non-null    float64\n",
      " 49  Cabin_C80              418 non-null    float64\n",
      " 50  Cabin_C85              418 non-null    float64\n",
      " 51  Cabin_C86              418 non-null    float64\n",
      " 52  Cabin_C89              418 non-null    float64\n",
      " 53  Cabin_C97              418 non-null    float64\n",
      " 54  Cabin_D                418 non-null    float64\n",
      " 55  Cabin_D10 D12          418 non-null    float64\n",
      " 56  Cabin_D15              418 non-null    float64\n",
      " 57  Cabin_D19              418 non-null    float64\n",
      " 58  Cabin_D21              418 non-null    float64\n",
      " 59  Cabin_D22              418 non-null    float64\n",
      " 60  Cabin_D28              418 non-null    float64\n",
      " 61  Cabin_D30              418 non-null    float64\n",
      " 62  Cabin_D34              418 non-null    float64\n",
      " 63  Cabin_D37              418 non-null    float64\n",
      " 64  Cabin_D38              418 non-null    float64\n",
      " 65  Cabin_D40              418 non-null    float64\n",
      " 66  Cabin_D43              418 non-null    float64\n",
      " 67  Cabin_E31              418 non-null    float64\n",
      " 68  Cabin_E34              418 non-null    float64\n",
      " 69  Cabin_E39 E41          418 non-null    float64\n",
      " 70  Cabin_E45              418 non-null    float64\n",
      " 71  Cabin_E46              418 non-null    float64\n",
      " 72  Cabin_E50              418 non-null    float64\n",
      " 73  Cabin_E52              418 non-null    float64\n",
      " 74  Cabin_E60              418 non-null    float64\n",
      " 75  Cabin_F                418 non-null    float64\n",
      " 76  Cabin_F E46            418 non-null    float64\n",
      " 77  Cabin_F E57            418 non-null    float64\n",
      " 78  Cabin_F G63            418 non-null    float64\n",
      " 79  Cabin_F2               418 non-null    float64\n",
      " 80  Cabin_F33              418 non-null    float64\n",
      " 81  Cabin_F4               418 non-null    float64\n",
      " 82  Cabin_G6               418 non-null    float64\n",
      " 83  Cabin_nan              418 non-null    float64\n",
      " 84  Embarked_C             418 non-null    float64\n",
      " 85  Embarked_Q             418 non-null    float64\n",
      " 86  Embarked_S             418 non-null    float64\n",
      " 87  Title_Master           418 non-null    float64\n",
      " 88  Title_Miss             418 non-null    float64\n",
      " 89  Title_Mr               418 non-null    float64\n",
      " 90  Title_Mrs              418 non-null    float64\n",
      " 91  Title_Ms               418 non-null    float64\n",
      " 92  Title_Other            418 non-null    float64\n",
      " 93  AgeGroup_Adult         418 non-null    float64\n",
      " 94  AgeGroup_Child         418 non-null    float64\n",
      " 95  AgeGroup_Senior        418 non-null    float64\n",
      " 96  AgeGroup_Teenager      418 non-null    float64\n",
      " 97  AgeGroup_nan           418 non-null    float64\n",
      "dtypes: float64(94), int64(4)\n",
      "memory usage: 320.2 KB\n",
      "None\n"
     ]
    }
   ],
   "source": [
    "train, test = encoded_data[0], encoded_data[1]\n",
    "print(train.info())\n",
    "print(test.info())"
   ]
  },
  {
   "cell_type": "markdown",
   "id": "076d5ff7-ad2a-4d7b-b01e-7fcbb9584e18",
   "metadata": {},
   "source": [
    "#### Create X & y datasets"
   ]
  },
  {
   "cell_type": "code",
   "execution_count": 17,
   "id": "cdc94551-5ed5-4425-9980-5eb562204755",
   "metadata": {},
   "outputs": [
    {
     "data": {
      "text/plain": [
       "566    0\n",
       "90     0\n",
       "801    1\n",
       "49     0\n",
       "421    0\n",
       "Name: Survived, dtype: int64"
      ]
     },
     "execution_count": 17,
     "metadata": {},
     "output_type": "execute_result"
    }
   ],
   "source": [
    "y_train=train.Survived\n",
    "y_train.sample(5)"
   ]
  },
  {
   "cell_type": "code",
   "execution_count": 18,
   "id": "0e9c272f-02f8-4bd9-9916-bb1befdc3f35",
   "metadata": {},
   "outputs": [
    {
     "data": {
      "text/html": [
       "<div>\n",
       "<style scoped>\n",
       "    .dataframe tbody tr th:only-of-type {\n",
       "        vertical-align: middle;\n",
       "    }\n",
       "\n",
       "    .dataframe tbody tr th {\n",
       "        vertical-align: top;\n",
       "    }\n",
       "\n",
       "    .dataframe thead th {\n",
       "        text-align: right;\n",
       "    }\n",
       "</style>\n",
       "<table border=\"1\" class=\"dataframe\">\n",
       "  <thead>\n",
       "    <tr style=\"text-align: right;\">\n",
       "      <th></th>\n",
       "      <th>PassengerId</th>\n",
       "      <th>Pclass</th>\n",
       "      <th>SibSp</th>\n",
       "      <th>Parch</th>\n",
       "      <th>FarePerPerson</th>\n",
       "      <th>Sex_female</th>\n",
       "      <th>Sex_male</th>\n",
       "      <th>Embarked_C</th>\n",
       "      <th>Embarked_Q</th>\n",
       "      <th>Embarked_S</th>\n",
       "      <th>...</th>\n",
       "      <th>Title_Mlle</th>\n",
       "      <th>Title_Mme</th>\n",
       "      <th>Title_Mr</th>\n",
       "      <th>Title_Mrs</th>\n",
       "      <th>Title_Ms</th>\n",
       "      <th>Title_Other</th>\n",
       "      <th>AgeGroup_Adult</th>\n",
       "      <th>AgeGroup_Child</th>\n",
       "      <th>AgeGroup_Senior</th>\n",
       "      <th>AgeGroup_Teenager</th>\n",
       "    </tr>\n",
       "  </thead>\n",
       "  <tbody>\n",
       "    <tr>\n",
       "      <th>139</th>\n",
       "      <td>140</td>\n",
       "      <td>1</td>\n",
       "      <td>0</td>\n",
       "      <td>0</td>\n",
       "      <td>79.200000</td>\n",
       "      <td>0.0</td>\n",
       "      <td>1.0</td>\n",
       "      <td>1.0</td>\n",
       "      <td>0.0</td>\n",
       "      <td>0.0</td>\n",
       "      <td>...</td>\n",
       "      <td>0.0</td>\n",
       "      <td>0.0</td>\n",
       "      <td>1.0</td>\n",
       "      <td>0.0</td>\n",
       "      <td>0.0</td>\n",
       "      <td>0.0</td>\n",
       "      <td>1.0</td>\n",
       "      <td>0.0</td>\n",
       "      <td>0.0</td>\n",
       "      <td>0.0</td>\n",
       "    </tr>\n",
       "    <tr>\n",
       "      <th>721</th>\n",
       "      <td>722</td>\n",
       "      <td>3</td>\n",
       "      <td>1</td>\n",
       "      <td>0</td>\n",
       "      <td>3.527100</td>\n",
       "      <td>0.0</td>\n",
       "      <td>1.0</td>\n",
       "      <td>0.0</td>\n",
       "      <td>0.0</td>\n",
       "      <td>1.0</td>\n",
       "      <td>...</td>\n",
       "      <td>0.0</td>\n",
       "      <td>0.0</td>\n",
       "      <td>1.0</td>\n",
       "      <td>0.0</td>\n",
       "      <td>0.0</td>\n",
       "      <td>0.0</td>\n",
       "      <td>0.0</td>\n",
       "      <td>0.0</td>\n",
       "      <td>0.0</td>\n",
       "      <td>1.0</td>\n",
       "    </tr>\n",
       "    <tr>\n",
       "      <th>824</th>\n",
       "      <td>825</td>\n",
       "      <td>3</td>\n",
       "      <td>4</td>\n",
       "      <td>1</td>\n",
       "      <td>6.614583</td>\n",
       "      <td>0.0</td>\n",
       "      <td>1.0</td>\n",
       "      <td>0.0</td>\n",
       "      <td>0.0</td>\n",
       "      <td>1.0</td>\n",
       "      <td>...</td>\n",
       "      <td>0.0</td>\n",
       "      <td>0.0</td>\n",
       "      <td>0.0</td>\n",
       "      <td>0.0</td>\n",
       "      <td>0.0</td>\n",
       "      <td>0.0</td>\n",
       "      <td>0.0</td>\n",
       "      <td>1.0</td>\n",
       "      <td>0.0</td>\n",
       "      <td>0.0</td>\n",
       "    </tr>\n",
       "    <tr>\n",
       "      <th>863</th>\n",
       "      <td>864</td>\n",
       "      <td>3</td>\n",
       "      <td>8</td>\n",
       "      <td>2</td>\n",
       "      <td>6.322727</td>\n",
       "      <td>1.0</td>\n",
       "      <td>0.0</td>\n",
       "      <td>0.0</td>\n",
       "      <td>0.0</td>\n",
       "      <td>1.0</td>\n",
       "      <td>...</td>\n",
       "      <td>0.0</td>\n",
       "      <td>0.0</td>\n",
       "      <td>0.0</td>\n",
       "      <td>0.0</td>\n",
       "      <td>0.0</td>\n",
       "      <td>0.0</td>\n",
       "      <td>1.0</td>\n",
       "      <td>0.0</td>\n",
       "      <td>0.0</td>\n",
       "      <td>0.0</td>\n",
       "    </tr>\n",
       "    <tr>\n",
       "      <th>68</th>\n",
       "      <td>69</td>\n",
       "      <td>3</td>\n",
       "      <td>4</td>\n",
       "      <td>2</td>\n",
       "      <td>1.132143</td>\n",
       "      <td>1.0</td>\n",
       "      <td>0.0</td>\n",
       "      <td>0.0</td>\n",
       "      <td>0.0</td>\n",
       "      <td>1.0</td>\n",
       "      <td>...</td>\n",
       "      <td>0.0</td>\n",
       "      <td>0.0</td>\n",
       "      <td>0.0</td>\n",
       "      <td>0.0</td>\n",
       "      <td>0.0</td>\n",
       "      <td>0.0</td>\n",
       "      <td>0.0</td>\n",
       "      <td>0.0</td>\n",
       "      <td>0.0</td>\n",
       "      <td>1.0</td>\n",
       "    </tr>\n",
       "  </tbody>\n",
       "</table>\n",
       "<p>5 rows × 22 columns</p>\n",
       "</div>"
      ],
      "text/plain": [
       "     PassengerId  Pclass  SibSp  Parch  FarePerPerson  Sex_female  Sex_male  \\\n",
       "139          140       1      0      0      79.200000         0.0       1.0   \n",
       "721          722       3      1      0       3.527100         0.0       1.0   \n",
       "824          825       3      4      1       6.614583         0.0       1.0   \n",
       "863          864       3      8      2       6.322727         1.0       0.0   \n",
       "68            69       3      4      2       1.132143         1.0       0.0   \n",
       "\n",
       "     Embarked_C  Embarked_Q  Embarked_S  ...  Title_Mlle  Title_Mme  Title_Mr  \\\n",
       "139         1.0         0.0         0.0  ...         0.0        0.0       1.0   \n",
       "721         0.0         0.0         1.0  ...         0.0        0.0       1.0   \n",
       "824         0.0         0.0         1.0  ...         0.0        0.0       0.0   \n",
       "863         0.0         0.0         1.0  ...         0.0        0.0       0.0   \n",
       "68          0.0         0.0         1.0  ...         0.0        0.0       0.0   \n",
       "\n",
       "     Title_Mrs  Title_Ms  Title_Other  AgeGroup_Adult  AgeGroup_Child  \\\n",
       "139        0.0       0.0          0.0             1.0             0.0   \n",
       "721        0.0       0.0          0.0             0.0             0.0   \n",
       "824        0.0       0.0          0.0             0.0             1.0   \n",
       "863        0.0       0.0          0.0             1.0             0.0   \n",
       "68         0.0       0.0          0.0             0.0             0.0   \n",
       "\n",
       "     AgeGroup_Senior  AgeGroup_Teenager  \n",
       "139              0.0                0.0  \n",
       "721              0.0                1.0  \n",
       "824              0.0                0.0  \n",
       "863              0.0                0.0  \n",
       "68               0.0                1.0  \n",
       "\n",
       "[5 rows x 22 columns]"
      ]
     },
     "execution_count": 18,
     "metadata": {},
     "output_type": "execute_result"
    }
   ],
   "source": [
    "X_train = train.copy()\n",
    "X_train.drop('Survived', axis=1, inplace=True)\n",
    "X_train.sample(5)"
   ]
  },
  {
   "cell_type": "code",
   "execution_count": 21,
   "id": "74757c1e-d908-46d3-ad27-90e4aa56e6d1",
   "metadata": {},
   "outputs": [
    {
     "name": "stdout",
     "output_type": "stream",
     "text": [
      "LR: 0.824919 (0.044419)\n",
      "LDA: 0.826005 (0.043696)\n",
      "KNN: 0.609401 (0.056297)\n",
      "CART: 0.765418 (0.037492)\n",
      "NB: 0.801348 (0.036238)\n",
      "SVM: 0.631848 (0.052334)\n"
     ]
    },
    {
     "data": {
      "image/png": "[encoded data removed]",
      "text/plain": [
       "<Figure size 640x480 with 1 Axes>"
      ]
     },
     "metadata": {},
     "output_type": "display_data"
    }
   ],
   "source": [
    "# prepare configuration for cross validation test harness\n",
    "seed = 416\n",
    "# prepare models\n",
    "models = []\n",
    "models.append(('LR', LogisticRegression()))\n",
    "models.append(('LDA', LinearDiscriminantAnalysis()))\n",
    "models.append(('KNN', KNeighborsClassifier()))\n",
    "models.append(('CART', DecisionTreeClassifier()))\n",
    "models.append(('NB', GaussianNB()))\n",
    "models.append(('SVM', SVC()))\n",
    "# evaluate each model, performance metric=accuracy\n",
    "results = []\n",
    "names = []\n",
    "scoring = 'accuracy'\n",
    "for name, model in models:\n",
    " kfold = model_selection.KFold(n_splits=10, random_state=seed, shuffle=True)\n",
    " cv_results = model_selection.cross_val_score(model, X_train, y_train, cv=kfold, scoring=scoring)\n",
    " results.append(cv_results)\n",
    " names.append(name)\n",
    " msg = \"%s: %f (%f)\" % (name, cv_results.mean(), cv_results.std())\n",
    " print(msg)\n",
    "# boxplot algorithm comparison\n",
    "fig = plt.figure()\n",
    "fig.suptitle('Algorithm Comparison')\n",
    "ax = fig.add_subplot(111)\n",
    "plt.boxplot(results)\n",
    "ax.set_xticklabels(names)\n",
    "plt.show()"
   ]
  },
  {
   "cell_type": "markdown",
   "id": "f6120e57-e4bc-433c-8b7d-a82eeeae8393",
   "metadata": {},
   "source": [
    "Results suggest that the models, logistic regression and linear discriminant analysis, are worthy of further exploration."
   ]
  }
 ],
 "metadata": {
  "kernelspec": {
   "display_name": "Python 3 (ipykernel)",
   "language": "python",
   "name": "python3"
  },
  "language_info": {
   "codemirror_mode": {
    "name": "ipython",
    "version": 3
   },
   "file_extension": ".py",
   "mimetype": "text/x-python",
   "name": "python",
   "nbconvert_exporter": "python",
   "pygments_lexer": "ipython3",
   "version": "3.11.0"
  }
 },
 "nbformat": 4,
 "nbformat_minor": 5
}
